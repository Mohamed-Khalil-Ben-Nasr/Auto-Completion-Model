{
 "cells": [
  {
   "cell_type": "code",
   "execution_count": 1,
   "metadata": {},
   "outputs": [
    {
     "name": "stdout",
     "output_type": "stream",
     "text": [
      "URL transformed to HTTPS due to an HSTS policy\n",
      "--2023-10-15 14:24:51--  https://www.lawrence.edu/fast/greggj/CMSC490/shakespeare.zip\n",
      "Resolving www.lawrence.edu (www.lawrence.edu)... 143.44.124.14\n",
      "Connecting to www.lawrence.edu (www.lawrence.edu)|143.44.124.14|:443... connected.\n",
      "HTTP request sent, awaiting response... 302 Found\n",
      "Location: https://www7.lawrence.edu/fast/greggj/CMSC490/shakespeare.zip [following]\n",
      "--2023-10-15 14:24:51--  https://www7.lawrence.edu/fast/greggj/CMSC490/shakespeare.zip\n",
      "Resolving www7.lawrence.edu (www7.lawrence.edu)... 143.44.124.14\n",
      "Connecting to www7.lawrence.edu (www7.lawrence.edu)|143.44.124.14|:443... connected.\n",
      "HTTP request sent, awaiting response... 301 Moved Permanently\n",
      "Location: https://www2.lawrence.edu/fast/greggj/CMSC490/shakespeare.zip [following]\n",
      "--2023-10-15 14:24:52--  https://www2.lawrence.edu/fast/greggj/CMSC490/shakespeare.zip\n",
      "Resolving www2.lawrence.edu (www2.lawrence.edu)... 143.44.124.14\n",
      "Connecting to www2.lawrence.edu (www2.lawrence.edu)|143.44.124.14|:443... connected.\n",
      "HTTP request sent, awaiting response... 301 Moved Permanently\n",
      "Location: http://www2.lawrence.edu/fast/GREGGJ/CMSC490/shakespeare.zip [following]\n",
      "--2023-10-15 14:24:52--  http://www2.lawrence.edu/fast/GREGGJ/CMSC490/shakespeare.zip\n",
      "Connecting to www2.lawrence.edu (www2.lawrence.edu)|143.44.124.14|:80... connected.\n",
      "HTTP request sent, awaiting response... 200 OK\n",
      "Length: 2139870 (2.0M) [application/zip]\n",
      "Saving to: ‘shakespeare.zip’\n",
      "\n",
      "shakespeare.zip     100%[===================>]   2.04M  --.-KB/s    in 0.06s   \n",
      "\n",
      "2023-10-15 14:24:52 (35.1 MB/s) - ‘shakespeare.zip’ saved [2139870/2139870]\n",
      "\n",
      "Archive:  shakespeare.zip\n",
      "  inflating: shakespeare.txt         \n",
      "  inflating: __MACOSX/._shakespeare.txt  \n"
     ]
    }
   ],
   "source": [
    "!wget http://www.lawrence.edu/fast/greggj/CMSC490/shakespeare.zip\n",
    "!unzip shakespeare.zip"
   ]
  },
  {
   "cell_type": "code",
   "execution_count": 2,
   "metadata": {},
   "outputs": [],
   "source": [
    "def getWord(file):\n",
    "    char = file.read(1)\n",
    "    if not char:\n",
    "        return ''\n",
    "    char = char.lower()\n",
    "\n",
    "    while char < 'a' or char > 'z':\n",
    "        char = file.read(1)        \n",
    "        if not char: \n",
    "            return ''\n",
    "        char = char.lower()\n",
    "\n",
    "    str = ''\n",
    "    while char >= 'a' and char <= 'z':\n",
    "        str = str + char\n",
    "        char = file.read(1)        \n",
    "        if not char: \n",
    "            return str\n",
    "        char = char.lower()\n",
    "    \n",
    "    if char == '’':\n",
    "        str = ''\n",
    "        char = file.read(1)\n",
    "        if not char: \n",
    "            return str\n",
    "        char = char.lower()\n",
    "        while char >= 'a' and char <= 'z':\n",
    "            char = file.read(1)        \n",
    "            if not char: \n",
    "                return str\n",
    "            char = char.lower()\n",
    "        return getWord(file)\n",
    "    return str"
   ]
  },
  {
   "cell_type": "code",
   "execution_count": 29,
   "metadata": {},
   "outputs": [],
   "source": [
    "import numpy as np\n",
    "\n",
    "def makeSequence(s):\n",
    "    seq = []\n",
    "    for c in s:\n",
    "        position = 0\n",
    "        oneHot_encoding = np.zeros(27)\n",
    "        if c == '':\n",
    "            position = 26\n",
    "        else:\n",
    "            position = ord(c) - ord('a')\n",
    "        oneHot_encoding[position] = 1\n",
    "        seq.append(oneHot_encoding)\n",
    "    \n",
    "    #pad result if number of characters less than 10\n",
    "    while len(seq) < 10:\n",
    "        oneHot_encoding = np.zeros(27)\n",
    "        oneHot_encoding[26] = 1\n",
    "        seq.append(oneHot_encoding)\n",
    "    \n",
    "    seq = np.array(seq)\n",
    "    return seq\n",
    "\n",
    "def makeOneSequence(c):\n",
    "    position = 0\n",
    "    oneHot_encoding = np.zeros(27)\n",
    "    if c == '':\n",
    "        position = 26\n",
    "    else:\n",
    "        position = ord(c) - ord('a')\n",
    "    oneHot_encoding[position] = 1\n",
    "    return oneHot_encoding    \n",
    "        "
   ]
  },
  {
   "cell_type": "code",
   "execution_count": 30,
   "metadata": {},
   "outputs": [],
   "source": [
    "#generate dataset\n",
    "file = open('shakespeare.txt', 'r')\n",
    "\n",
    "input_sequences = []\n",
    "target_characters = []\n",
    "\n",
    "for n in range(100000):\n",
    "    word = getWord(file)\n",
    "    l = len(word)\n",
    "    if (l < 4 or l > 9 ):\n",
    "        continue\n",
    "    curSubString = word[:3]\n",
    "    for i in range(3, l):\n",
    "        # Generate the one-hot encoded sequence for the current substring\n",
    "        input_seq = makeSequence(curSubString)\n",
    "\n",
    "        # Append the input sequence to the list\n",
    "        input_sequences.append(input_seq)\n",
    "\n",
    "        # Append the target character (next character) to the list\n",
    "        target_characters.append(makeOneSequence(word[i]))\n",
    "\n",
    "        # Move the substring one character to the right\n",
    "        curSubString = curSubString + word[i]\n",
    "    \n",
    "file.close()\n",
    "\n",
    "input_sequences = np.array(input_sequences)\n",
    "target_characters = np.array(target_characters)\n"
   ]
  },
  {
   "cell_type": "code",
   "execution_count": 31,
   "metadata": {},
   "outputs": [
    {
     "data": {
      "text/plain": [
       "(128319, 10, 27)"
      ]
     },
     "execution_count": 31,
     "metadata": {},
     "output_type": "execute_result"
    }
   ],
   "source": [
    "input_sequences.shape"
   ]
  },
  {
   "cell_type": "code",
   "execution_count": 32,
   "metadata": {},
   "outputs": [
    {
     "data": {
      "text/plain": [
       "(128319, 27)"
      ]
     },
     "execution_count": 32,
     "metadata": {},
     "output_type": "execute_result"
    }
   ],
   "source": [
    "target_characters.shape"
   ]
  },
  {
   "cell_type": "code",
   "execution_count": 33,
   "metadata": {},
   "outputs": [],
   "source": [
    "#divide the big dataset\n",
    "x_train = input_sequences[:80000]\n",
    "x_validation = input_sequences[80000:100000]\n",
    "x_test = input_sequences[100000:]\n",
    "y_train = target_characters[:80000]\n",
    "y_validation = target_characters[80000:100000]\n",
    "y_test = target_characters[100000:]\n"
   ]
  },
  {
   "cell_type": "code",
   "execution_count": 34,
   "metadata": {},
   "outputs": [],
   "source": [
    "from tensorflow.keras import layers\n",
    "\n",
    "def build_model():\n",
    "    model = keras.Sequential([\n",
    "        layers.LSTM(16,input_shape=(10,27),return_sequences=False),\n",
    "        layers.Dense(27, activation=\"softmax\")\n",
    "    ])\n",
    "    model.compile(optimizer=\"Adam\", loss=\"categorical_crossentropy\", metrics=[\"accuracy\"])\n",
    "    return model"
   ]
  },
  {
   "cell_type": "code",
   "execution_count": 35,
   "metadata": {},
   "outputs": [
    {
     "name": "stdout",
     "output_type": "stream",
     "text": [
      "Epoch 1/20\n",
      "2500/2500 [==============================] - ETA: 0s - loss: 2.5918 - accuracy: 0.2335INFO:tensorflow:Assets written to: convnet_from_scratch.mdl/assets\n"
     ]
    },
    {
     "name": "stderr",
     "output_type": "stream",
     "text": [
      "INFO:tensorflow:Assets written to: convnet_from_scratch.mdl/assets\n"
     ]
    },
    {
     "name": "stdout",
     "output_type": "stream",
     "text": [
      "2500/2500 [==============================] - 12s 4ms/step - loss: 2.5918 - accuracy: 0.2335 - val_loss: 2.3494 - val_accuracy: 0.2998\n",
      "Epoch 2/20\n",
      "2490/2500 [============================>.] - ETA: 0s - loss: 2.2522 - accuracy: 0.3414INFO:tensorflow:Assets written to: convnet_from_scratch.mdl/assets\n"
     ]
    },
    {
     "name": "stderr",
     "output_type": "stream",
     "text": [
      "INFO:tensorflow:Assets written to: convnet_from_scratch.mdl/assets\n"
     ]
    },
    {
     "name": "stdout",
     "output_type": "stream",
     "text": [
      "2500/2500 [==============================] - 11s 5ms/step - loss: 2.2518 - accuracy: 0.3415 - val_loss: 2.1682 - val_accuracy: 0.3666\n",
      "Epoch 3/20\n",
      "2487/2500 [============================>.] - ETA: 0s - loss: 2.0848 - accuracy: 0.3986INFO:tensorflow:Assets written to: convnet_from_scratch.mdl/assets\n"
     ]
    },
    {
     "name": "stderr",
     "output_type": "stream",
     "text": [
      "INFO:tensorflow:Assets written to: convnet_from_scratch.mdl/assets\n"
     ]
    },
    {
     "name": "stdout",
     "output_type": "stream",
     "text": [
      "2500/2500 [==============================] - 12s 5ms/step - loss: 2.0845 - accuracy: 0.3986 - val_loss: 2.0596 - val_accuracy: 0.4038\n",
      "Epoch 4/20\n",
      "2491/2500 [============================>.] - ETA: 0s - loss: 1.9827 - accuracy: 0.4310INFO:tensorflow:Assets written to: convnet_from_scratch.mdl/assets\n"
     ]
    },
    {
     "name": "stderr",
     "output_type": "stream",
     "text": [
      "INFO:tensorflow:Assets written to: convnet_from_scratch.mdl/assets\n"
     ]
    },
    {
     "name": "stdout",
     "output_type": "stream",
     "text": [
      "2500/2500 [==============================] - 11s 4ms/step - loss: 1.9823 - accuracy: 0.4311 - val_loss: 1.9973 - val_accuracy: 0.4211\n",
      "Epoch 5/20\n",
      "2487/2500 [============================>.] - ETA: 0s - loss: 1.9105 - accuracy: 0.4554INFO:tensorflow:Assets written to: convnet_from_scratch.mdl/assets\n"
     ]
    },
    {
     "name": "stderr",
     "output_type": "stream",
     "text": [
      "INFO:tensorflow:Assets written to: convnet_from_scratch.mdl/assets\n"
     ]
    },
    {
     "name": "stdout",
     "output_type": "stream",
     "text": [
      "2500/2500 [==============================] - 11s 4ms/step - loss: 1.9100 - accuracy: 0.4557 - val_loss: 1.9334 - val_accuracy: 0.4450\n",
      "Epoch 6/20\n",
      "2486/2500 [============================>.] - ETA: 0s - loss: 1.8562 - accuracy: 0.4702INFO:tensorflow:Assets written to: convnet_from_scratch.mdl/assets\n"
     ]
    },
    {
     "name": "stderr",
     "output_type": "stream",
     "text": [
      "INFO:tensorflow:Assets written to: convnet_from_scratch.mdl/assets\n"
     ]
    },
    {
     "name": "stdout",
     "output_type": "stream",
     "text": [
      "2500/2500 [==============================] - 11s 4ms/step - loss: 1.8558 - accuracy: 0.4702 - val_loss: 1.9204 - val_accuracy: 0.4453\n",
      "Epoch 7/20\n",
      "2493/2500 [============================>.] - ETA: 0s - loss: 1.8122 - accuracy: 0.4817INFO:tensorflow:Assets written to: convnet_from_scratch.mdl/assets\n"
     ]
    },
    {
     "name": "stderr",
     "output_type": "stream",
     "text": [
      "INFO:tensorflow:Assets written to: convnet_from_scratch.mdl/assets\n"
     ]
    },
    {
     "name": "stdout",
     "output_type": "stream",
     "text": [
      "2500/2500 [==============================] - 13s 5ms/step - loss: 1.8125 - accuracy: 0.4815 - val_loss: 1.8764 - val_accuracy: 0.4667\n",
      "Epoch 8/20\n",
      "2500/2500 [==============================] - ETA: 0s - loss: 1.7775 - accuracy: 0.4953INFO:tensorflow:Assets written to: convnet_from_scratch.mdl/assets\n"
     ]
    },
    {
     "name": "stderr",
     "output_type": "stream",
     "text": [
      "INFO:tensorflow:Assets written to: convnet_from_scratch.mdl/assets\n"
     ]
    },
    {
     "name": "stdout",
     "output_type": "stream",
     "text": [
      "2500/2500 [==============================] - 14s 6ms/step - loss: 1.7775 - accuracy: 0.4953 - val_loss: 1.8581 - val_accuracy: 0.4739\n",
      "Epoch 9/20\n",
      "2493/2500 [============================>.] - ETA: 0s - loss: 1.7478 - accuracy: 0.5014INFO:tensorflow:Assets written to: convnet_from_scratch.mdl/assets\n"
     ]
    },
    {
     "name": "stderr",
     "output_type": "stream",
     "text": [
      "INFO:tensorflow:Assets written to: convnet_from_scratch.mdl/assets\n"
     ]
    },
    {
     "name": "stdout",
     "output_type": "stream",
     "text": [
      "2500/2500 [==============================] - 15s 6ms/step - loss: 1.7479 - accuracy: 0.5012 - val_loss: 1.8424 - val_accuracy: 0.4803\n",
      "Epoch 10/20\n",
      "2497/2500 [============================>.] - ETA: 0s - loss: 1.7247 - accuracy: 0.5100INFO:tensorflow:Assets written to: convnet_from_scratch.mdl/assets\n"
     ]
    },
    {
     "name": "stderr",
     "output_type": "stream",
     "text": [
      "INFO:tensorflow:Assets written to: convnet_from_scratch.mdl/assets\n"
     ]
    },
    {
     "name": "stdout",
     "output_type": "stream",
     "text": [
      "2500/2500 [==============================] - 13s 5ms/step - loss: 1.7246 - accuracy: 0.5100 - val_loss: 1.8091 - val_accuracy: 0.4874\n",
      "Epoch 11/20\n",
      "2495/2500 [============================>.] - ETA: 0s - loss: 1.7022 - accuracy: 0.5156INFO:tensorflow:Assets written to: convnet_from_scratch.mdl/assets\n"
     ]
    },
    {
     "name": "stderr",
     "output_type": "stream",
     "text": [
      "INFO:tensorflow:Assets written to: convnet_from_scratch.mdl/assets\n"
     ]
    },
    {
     "name": "stdout",
     "output_type": "stream",
     "text": [
      "2500/2500 [==============================] - 14s 6ms/step - loss: 1.7020 - accuracy: 0.5157 - val_loss: 1.7975 - val_accuracy: 0.4909\n",
      "Epoch 12/20\n",
      "2500/2500 [==============================] - ETA: 0s - loss: 1.6820 - accuracy: 0.5232INFO:tensorflow:Assets written to: convnet_from_scratch.mdl/assets\n"
     ]
    },
    {
     "name": "stderr",
     "output_type": "stream",
     "text": [
      "INFO:tensorflow:Assets written to: convnet_from_scratch.mdl/assets\n"
     ]
    },
    {
     "name": "stdout",
     "output_type": "stream",
     "text": [
      "2500/2500 [==============================] - 13s 5ms/step - loss: 1.6820 - accuracy: 0.5232 - val_loss: 1.7888 - val_accuracy: 0.4956\n",
      "Epoch 13/20\n",
      "2493/2500 [============================>.] - ETA: 0s - loss: 1.6659 - accuracy: 0.5291INFO:tensorflow:Assets written to: convnet_from_scratch.mdl/assets\n"
     ]
    },
    {
     "name": "stderr",
     "output_type": "stream",
     "text": [
      "INFO:tensorflow:Assets written to: convnet_from_scratch.mdl/assets\n"
     ]
    },
    {
     "name": "stdout",
     "output_type": "stream",
     "text": [
      "2500/2500 [==============================] - 12s 5ms/step - loss: 1.6658 - accuracy: 0.5291 - val_loss: 1.7555 - val_accuracy: 0.4997\n",
      "Epoch 14/20\n",
      "2500/2500 [==============================] - 10s 4ms/step - loss: 1.6482 - accuracy: 0.5329 - val_loss: 1.7609 - val_accuracy: 0.4946\n",
      "Epoch 15/20\n",
      "2492/2500 [============================>.] - ETA: 0s - loss: 1.6354 - accuracy: 0.5376INFO:tensorflow:Assets written to: convnet_from_scratch.mdl/assets\n"
     ]
    },
    {
     "name": "stderr",
     "output_type": "stream",
     "text": [
      "INFO:tensorflow:Assets written to: convnet_from_scratch.mdl/assets\n"
     ]
    },
    {
     "name": "stdout",
     "output_type": "stream",
     "text": [
      "2500/2500 [==============================] - 12s 5ms/step - loss: 1.6357 - accuracy: 0.5376 - val_loss: 1.7491 - val_accuracy: 0.5058\n",
      "Epoch 16/20\n",
      "2493/2500 [============================>.] - ETA: 0s - loss: 1.6224 - accuracy: 0.5413INFO:tensorflow:Assets written to: convnet_from_scratch.mdl/assets\n"
     ]
    },
    {
     "name": "stderr",
     "output_type": "stream",
     "text": [
      "INFO:tensorflow:Assets written to: convnet_from_scratch.mdl/assets\n"
     ]
    },
    {
     "name": "stdout",
     "output_type": "stream",
     "text": [
      "2500/2500 [==============================] - 13s 5ms/step - loss: 1.6225 - accuracy: 0.5412 - val_loss: 1.7484 - val_accuracy: 0.5110\n",
      "Epoch 17/20\n",
      "2496/2500 [============================>.] - ETA: 0s - loss: 1.6094 - accuracy: 0.5441INFO:tensorflow:Assets written to: convnet_from_scratch.mdl/assets\n"
     ]
    },
    {
     "name": "stderr",
     "output_type": "stream",
     "text": [
      "INFO:tensorflow:Assets written to: convnet_from_scratch.mdl/assets\n"
     ]
    },
    {
     "name": "stdout",
     "output_type": "stream",
     "text": [
      "2500/2500 [==============================] - 13s 5ms/step - loss: 1.6094 - accuracy: 0.5441 - val_loss: 1.7305 - val_accuracy: 0.5100\n",
      "Epoch 18/20\n",
      "2494/2500 [============================>.] - ETA: 0s - loss: 1.6019 - accuracy: 0.5463INFO:tensorflow:Assets written to: convnet_from_scratch.mdl/assets\n"
     ]
    },
    {
     "name": "stderr",
     "output_type": "stream",
     "text": [
      "INFO:tensorflow:Assets written to: convnet_from_scratch.mdl/assets\n"
     ]
    },
    {
     "name": "stdout",
     "output_type": "stream",
     "text": [
      "2500/2500 [==============================] - 13s 5ms/step - loss: 1.6021 - accuracy: 0.5462 - val_loss: 1.7265 - val_accuracy: 0.5124\n",
      "Epoch 19/20\n",
      "2491/2500 [============================>.] - ETA: 0s - loss: 1.5896 - accuracy: 0.5493INFO:tensorflow:Assets written to: convnet_from_scratch.mdl/assets\n"
     ]
    },
    {
     "name": "stderr",
     "output_type": "stream",
     "text": [
      "INFO:tensorflow:Assets written to: convnet_from_scratch.mdl/assets\n"
     ]
    },
    {
     "name": "stdout",
     "output_type": "stream",
     "text": [
      "2500/2500 [==============================] - 10s 4ms/step - loss: 1.5896 - accuracy: 0.5493 - val_loss: 1.7172 - val_accuracy: 0.5170\n",
      "Epoch 20/20\n",
      "2500/2500 [==============================] - ETA: 0s - loss: 1.5782 - accuracy: 0.5520INFO:tensorflow:Assets written to: convnet_from_scratch.mdl/assets\n"
     ]
    },
    {
     "name": "stderr",
     "output_type": "stream",
     "text": [
      "INFO:tensorflow:Assets written to: convnet_from_scratch.mdl/assets\n"
     ]
    },
    {
     "name": "stdout",
     "output_type": "stream",
     "text": [
      "2500/2500 [==============================] - 14s 6ms/step - loss: 1.5782 - accuracy: 0.5520 - val_loss: 1.7150 - val_accuracy: 0.5201\n"
     ]
    }
   ],
   "source": [
    "from tensorflow import keras\n",
    "\n",
    "model = build_model()\n",
    "\n",
    "callbacks = [\n",
    "    keras.callbacks.ModelCheckpoint(\n",
    "        filepath=\"convnet_from_scratch.mdl\",\n",
    "        save_best_only=True,\n",
    "        monitor=\"val_loss\")\n",
    "]\n",
    "history = model.fit(\n",
    "    x_train,\n",
    "    y_train,\n",
    "    epochs=20,\n",
    "    validation_data= (x_validation, y_validation),\n",
    "    callbacks=callbacks)"
   ]
  }
 ],
 "metadata": {
  "kernelspec": {
   "display_name": "Python 3",
   "language": "python",
   "name": "python3"
  },
  "language_info": {
   "codemirror_mode": {
    "name": "ipython",
    "version": 3
   },
   "file_extension": ".py",
   "mimetype": "text/x-python",
   "name": "python",
   "nbconvert_exporter": "python",
   "pygments_lexer": "ipython3",
   "version": "3.10.12"
  }
 },
 "nbformat": 4,
 "nbformat_minor": 2
}
